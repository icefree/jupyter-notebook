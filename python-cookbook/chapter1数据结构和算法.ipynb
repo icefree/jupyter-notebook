{
 "cells": [
  {
   "cell_type": "markdown",
   "metadata": {},
   "source": [
    "## 分解序列"
   ]
  },
  {
   "cell_type": "markdown",
   "metadata": {},
   "source": [
    "### 对象可迭代"
   ]
  },
  {
   "cell_type": "markdown",
   "metadata": {},
   "source": [
    "### 变量总数和结构相符"
   ]
  },
  {
   "cell_type": "code",
   "execution_count": 1,
   "metadata": {
    "ExecuteTime": {
     "end_time": "2021-02-01T13:00:31.359259Z",
     "start_time": "2021-02-01T13:00:31.351047Z"
    }
   },
   "outputs": [],
   "source": [
    "p = (4,5)"
   ]
  },
  {
   "cell_type": "code",
   "execution_count": 10,
   "metadata": {
    "ExecuteTime": {
     "end_time": "2021-02-01T13:03:04.962634Z",
     "start_time": "2021-02-01T13:03:04.958159Z"
    }
   },
   "outputs": [],
   "source": [
    "x, y= p"
   ]
  },
  {
   "cell_type": "code",
   "execution_count": 5,
   "metadata": {
    "ExecuteTime": {
     "end_time": "2021-02-01T13:02:07.030765Z",
     "start_time": "2021-02-01T13:02:07.025255Z"
    }
   },
   "outputs": [],
   "source": [
    "data = ['ACME', 50, 91.1, (2012, 12, 21)]"
   ]
  },
  {
   "cell_type": "code",
   "execution_count": 6,
   "metadata": {
    "ExecuteTime": {
     "end_time": "2021-02-01T13:02:33.144937Z",
     "start_time": "2021-02-01T13:02:33.141023Z"
    }
   },
   "outputs": [],
   "source": [
    "_,shares,price,(year, month, day) = data"
   ]
  },
  {
   "cell_type": "code",
   "execution_count": 11,
   "metadata": {
    "ExecuteTime": {
     "end_time": "2021-02-01T13:06:43.258645Z",
     "start_time": "2021-02-01T13:06:43.255078Z"
    }
   },
   "outputs": [],
   "source": [
    "s = 'hello'"
   ]
  },
  {
   "cell_type": "code",
   "execution_count": 12,
   "metadata": {
    "ExecuteTime": {
     "end_time": "2021-02-01T13:06:51.839775Z",
     "start_time": "2021-02-01T13:06:51.836155Z"
    }
   },
   "outputs": [],
   "source": [
    "a,b,c,d,e = s"
   ]
  },
  {
   "cell_type": "markdown",
   "metadata": {
    "ExecuteTime": {
     "end_time": "2021-02-01T13:37:00.165354Z",
     "start_time": "2021-02-01T13:37:00.157796Z"
    }
   },
   "source": [
    "## 从任意长度的可迭代对象中分解元素"
   ]
  },
  {
   "cell_type": "markdown",
   "metadata": {},
   "source": [
    "### *表达式"
   ]
  },
  {
   "cell_type": "code",
   "execution_count": 19,
   "metadata": {
    "ExecuteTime": {
     "end_time": "2021-02-01T13:39:30.306761Z",
     "start_time": "2021-02-01T13:39:30.300655Z"
    }
   },
   "outputs": [],
   "source": [
    "def drop_first_last(grades):\n",
    "    first, *middle, last = grades\n",
    "    return avg(middel)"
   ]
  },
  {
   "cell_type": "code",
   "execution_count": 21,
   "metadata": {
    "ExecuteTime": {
     "end_time": "2021-02-01T13:41:02.840772Z",
     "start_time": "2021-02-01T13:41:02.835820Z"
    }
   },
   "outputs": [],
   "source": [
    "record = ['Dave', 'dave@example.com', '773-555-1212', '847-555-1212']"
   ]
  },
  {
   "cell_type": "code",
   "execution_count": 22,
   "metadata": {
    "ExecuteTime": {
     "end_time": "2021-02-01T13:41:11.628357Z",
     "start_time": "2021-02-01T13:41:11.624767Z"
    }
   },
   "outputs": [],
   "source": [
    "name, email, *phones = record"
   ]
  },
  {
   "cell_type": "code",
   "execution_count": 29,
   "metadata": {
    "ExecuteTime": {
     "end_time": "2021-02-01T13:44:38.624767Z",
     "start_time": "2021-02-01T13:44:38.619249Z"
    }
   },
   "outputs": [],
   "source": [
    "*trailing, current = [10, 8, 7, 1, 9 ,5, 10, 3]"
   ]
  },
  {
   "cell_type": "markdown",
   "metadata": {
    "ExecuteTime": {
     "end_time": "2021-02-01T13:44:45.902397Z",
     "start_time": "2021-02-01T13:44:45.895159Z"
    }
   },
   "source": [
    "### *式语法在迭代一个变长的元组序列时特别有用"
   ]
  },
  {
   "cell_type": "code",
   "execution_count": 35,
   "metadata": {
    "ExecuteTime": {
     "end_time": "2021-02-01T13:58:31.050420Z",
     "start_time": "2021-02-01T13:58:31.046341Z"
    }
   },
   "outputs": [],
   "source": [
    "records = [\n",
    "    ('foo', 1, 2),\n",
    "    ('bar', 'hello'),\n",
    "    ('foo', 3, 4)\n",
    "]"
   ]
  },
  {
   "cell_type": "markdown",
   "metadata": {
    "ExecuteTime": {
     "end_time": "2021-02-01T13:59:32.295890Z",
     "start_time": "2021-02-01T13:59:32.292376Z"
    }
   },
   "source": [
    "### 配合split"
   ]
  },
  {
   "cell_type": "code",
   "execution_count": 40,
   "metadata": {
    "ExecuteTime": {
     "end_time": "2021-02-01T14:00:34.208513Z",
     "start_time": "2021-02-01T14:00:34.202108Z"
    }
   },
   "outputs": [],
   "source": [
    "line = 'ubuntu:x:1000:1000:,,,:/home/ubuntu:/bin/bash'.split(':')"
   ]
  },
  {
   "cell_type": "code",
   "execution_count": 41,
   "metadata": {
    "ExecuteTime": {
     "end_time": "2021-02-01T14:00:34.711672Z",
     "start_time": "2021-02-01T14:00:34.707666Z"
    }
   },
   "outputs": [],
   "source": [
    "uname,*fields,homedir,sh = line"
   ]
  },
  {
   "cell_type": "code",
   "execution_count": 45,
   "metadata": {
    "ExecuteTime": {
     "end_time": "2021-02-01T14:00:43.789907Z",
     "start_time": "2021-02-01T14:00:43.783021Z"
    }
   },
   "outputs": [
    {
     "data": {
      "text/plain": [
       "'/bin/bash'"
      ]
     },
     "execution_count": 45,
     "metadata": {},
     "output_type": "execute_result"
    }
   ],
   "source": [
    "sh"
   ]
  },
  {
   "cell_type": "code",
   "execution_count": 51,
   "metadata": {
    "ExecuteTime": {
     "end_time": "2021-02-01T14:03:17.508148Z",
     "start_time": "2021-02-01T14:03:17.504180Z"
    }
   },
   "outputs": [],
   "source": [
    "name, *_, (year, *_) = data"
   ]
  },
  {
   "cell_type": "code",
   "execution_count": 52,
   "metadata": {
    "ExecuteTime": {
     "end_time": "2021-02-01T14:03:18.328791Z",
     "start_time": "2021-02-01T14:03:18.320437Z"
    }
   },
   "outputs": [
    {
     "data": {
      "text/plain": [
       "2012"
      ]
     },
     "execution_count": 52,
     "metadata": {},
     "output_type": "execute_result"
    }
   ],
   "source": [
    "year"
   ]
  },
  {
   "cell_type": "markdown",
   "metadata": {},
   "source": [
    "### 实现递归"
   ]
  },
  {
   "cell_type": "code",
   "execution_count": 53,
   "metadata": {
    "ExecuteTime": {
     "end_time": "2021-02-01T14:03:55.096318Z",
     "start_time": "2021-02-01T14:03:55.092473Z"
    }
   },
   "outputs": [],
   "source": [
    "item = [1, 10, 7, 4, 5, 9]"
   ]
  },
  {
   "cell_type": "code",
   "execution_count": 54,
   "metadata": {
    "ExecuteTime": {
     "end_time": "2021-02-01T14:04:01.812810Z",
     "start_time": "2021-02-01T14:04:01.809191Z"
    }
   },
   "outputs": [],
   "source": [
    "head, *tail = item"
   ]
  },
  {
   "cell_type": "code",
   "execution_count": 56,
   "metadata": {
    "ExecuteTime": {
     "end_time": "2021-02-01T14:04:05.906524Z",
     "start_time": "2021-02-01T14:04:05.897779Z"
    }
   },
   "outputs": [
    {
     "data": {
      "text/plain": [
       "[10, 7, 4, 5, 9]"
      ]
     },
     "execution_count": 56,
     "metadata": {},
     "output_type": "execute_result"
    }
   ],
   "source": [
    "tail"
   ]
  },
  {
   "cell_type": "code",
   "execution_count": 60,
   "metadata": {
    "ExecuteTime": {
     "end_time": "2021-02-01T14:04:57.143877Z",
     "start_time": "2021-02-01T14:04:57.138465Z"
    }
   },
   "outputs": [],
   "source": [
    "def sum(items):\n",
    "    head, *tail = items\n",
    "    return head + sum(tail) if tail else head"
   ]
  },
  {
   "cell_type": "code",
   "execution_count": 62,
   "metadata": {
    "ExecuteTime": {
     "end_time": "2021-02-01T14:05:01.953991Z",
     "start_time": "2021-02-01T14:05:01.945111Z"
    }
   },
   "outputs": [
    {
     "data": {
      "text/plain": [
       "36"
      ]
     },
     "execution_count": 62,
     "metadata": {},
     "output_type": "execute_result"
    }
   ],
   "source": [
    "sum(item)"
   ]
  }
 ],
 "metadata": {
  "kernelspec": {
   "display_name": "Python 3",
   "language": "python",
   "name": "python3"
  },
  "language_info": {
   "codemirror_mode": {
    "name": "ipython",
    "version": 3
   },
   "file_extension": ".py",
   "mimetype": "text/x-python",
   "name": "python",
   "nbconvert_exporter": "python",
   "pygments_lexer": "ipython3",
   "version": "3.7.9"
  },
  "toc": {
   "base_numbering": 1,
   "nav_menu": {},
   "number_sections": true,
   "sideBar": true,
   "skip_h1_title": false,
   "title_cell": "Table of Contents",
   "title_sidebar": "Contents",
   "toc_cell": false,
   "toc_position": {},
   "toc_section_display": true,
   "toc_window_display": true
  }
 },
 "nbformat": 4,
 "nbformat_minor": 4
}
